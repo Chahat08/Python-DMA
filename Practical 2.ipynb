{
 "cells": [
  {
   "cell_type": "markdown",
   "metadata": {},
   "source": [
    "# Practical 2\n",
    "## Decision Making, Loops, Strings\n",
    "\n",
    "**Name:** Chahat Kalsi<br>\n",
    "**Roll no.:** UE193032<br>\n",
    "**Class:** CSE, Section 1, 5th Sem"
   ]
  },
  {
   "attachments": {},
   "cell_type": "markdown",
   "metadata": {},
   "source": [
    "## Decision Making\n",
    "\n",
    "- Non-null and non-zero: True<br>\n",
    "- Null and zero: False\n"
   ]
  },
  {
   "cell_type": "code",
   "execution_count": 1,
   "metadata": {},
   "outputs": [
    {
     "name": "stdout",
     "output_type": "stream",
     "text": [
      "No\n"
     ]
    }
   ],
   "source": [
    "val = 0\n",
    "if val:\n",
    "    print(\"Yes\")\n",
    "else:\n",
    "    print(\"No\")"
   ]
  },
  {
   "cell_type": "code",
   "execution_count": 2,
   "metadata": {},
   "outputs": [
    {
     "name": "stdout",
     "output_type": "stream",
     "text": [
      "None not printed\n"
     ]
    }
   ],
   "source": [
    "if None:\n",
    "    print(\"None printed\")\n",
    "else:\n",
    "    print(\"None not printed\")"
   ]
  },
  {
   "cell_type": "code",
   "execution_count": 4,
   "metadata": {},
   "outputs": [
    {
     "name": "stdout",
     "output_type": "stream",
     "text": [
      "val in list 2\n"
     ]
    }
   ],
   "source": [
    "val = -1\n",
    "lst1 = [x for x in range(-5, -1)]\n",
    "lst2 = [x for x in range(-1, 5)]\n",
    "\n",
    "if val in lst1:\n",
    "    print(\"val in list 1\")\n",
    "elif val in lst2:\n",
    "    print(\"val in list 2\")\n",
    "else:\n",
    "    print(\"val not in anything\")"
   ]
  },
  {
   "cell_type": "code",
   "execution_count": null,
   "metadata": {},
   "outputs": [],
   "source": []
  }
 ],
 "metadata": {
  "kernelspec": {
   "display_name": "Python 3",
   "language": "python",
   "name": "python3"
  },
  "language_info": {
   "codemirror_mode": {
    "name": "ipython",
    "version": 3
   },
   "file_extension": ".py",
   "mimetype": "text/x-python",
   "name": "python",
   "nbconvert_exporter": "python",
   "pygments_lexer": "ipython3",
   "version": "3.9.1"
  }
 },
 "nbformat": 4,
 "nbformat_minor": 4
}
