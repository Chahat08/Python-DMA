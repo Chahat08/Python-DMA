{
 "cells": [
  {
   "cell_type": "markdown",
   "metadata": {},
   "source": [
    "# Practical 3\n",
    "## Lists, Tuples, Dictionaries, Functions\n",
    "\n",
    "**Name:** Chahat Kalsi<br>\n",
    "**Roll no.:** UE193032<br>\n",
    "**Class:** CSE, Section 1, 5th Sem"
   ]
  },
  {
   "cell_type": "markdown",
   "metadata": {},
   "source": [
    "<hr style=\"border:2px solid gray\"> </hr>"
   ]
  },
  {
   "cell_type": "markdown",
   "metadata": {},
   "source": [
    "## Lists"
   ]
  },
  {
   "cell_type": "markdown",
   "metadata": {},
   "source": [
    "### Declaration"
   ]
  },
  {
   "cell_type": "code",
   "execution_count": 10,
   "metadata": {},
   "outputs": [
    {
     "name": "stdout",
     "output_type": "stream",
     "text": [
      "[1, 2, 3, 4, 5]\n",
      "['a', 'b', 'hello', [1, 2, 3], (1, 2), 0.456, 1]\n"
     ]
    }
   ],
   "source": [
    "list1 = [1,2,3,4,5]\n",
    "list2 = ['a', 'b', \"hello\", [1,2,3], (1,2), 0.456, 1]\n",
    "\n",
    "print(list1)\n",
    "print(list2)"
   ]
  },
  {
   "cell_type": "code",
   "execution_count": 28,
   "metadata": {},
   "outputs": [
    {
     "name": "stdout",
     "output_type": "stream",
     "text": [
      "['h', 'e', 'l', 'l', 'o']\n",
      "[1, 2, 3]\n"
     ]
    }
   ],
   "source": [
    "list_a = list(\"hello\")\n",
    "list_b = list((1,2,3))\n",
    "\n",
    "print(list_a)\n",
    "print(list_b)"
   ]
  },
  {
   "cell_type": "markdown",
   "metadata": {},
   "source": [
    "### Indexing and Slicing\n",
    "```syntax: list_name[start:end:step]```"
   ]
  },
  {
   "cell_type": "code",
   "execution_count": 11,
   "metadata": {},
   "outputs": [
    {
     "name": "stdout",
     "output_type": "stream",
     "text": [
      "[1, 2, 3, 4, 5]\n",
      "[2, 4]\n",
      "['a', 'hello', (1, 2), 1]\n",
      "[[1, 2, 3], (1, 2)]\n"
     ]
    }
   ],
   "source": [
    "print(list1[:])\n",
    "print(list1[1::2])\n",
    "print(list2[::2])\n",
    "print(list2[-4:-2])"
   ]
  },
  {
   "cell_type": "markdown",
   "metadata": {},
   "source": [
    "### Updating Lists"
   ]
  },
  {
   "cell_type": "code",
   "execution_count": 12,
   "metadata": {},
   "outputs": [
    {
     "name": "stdout",
     "output_type": "stream",
     "text": [
      "Original List =  [1, 2, 3, 4, 5]\n",
      "Updated List =  [1, 2, 'Wonderful', 4, 5]\n"
     ]
    }
   ],
   "source": [
    "print(\"Original List = \",list1)\n",
    "list1[2]=\"Wonderful\"\n",
    "print(\"Updated List = \", list1)"
   ]
  },
  {
   "cell_type": "markdown",
   "metadata": {},
   "source": [
    "### Deleting List Elements\n",
    "- using del keyword\n",
    "- using .remove() method"
   ]
  },
  {
   "cell_type": "markdown",
   "metadata": {},
   "source": [
    "#### del"
   ]
  },
  {
   "cell_type": "code",
   "execution_count": 13,
   "metadata": {},
   "outputs": [
    {
     "name": "stdout",
     "output_type": "stream",
     "text": [
      "Original List =  [1, 2, 'Wonderful', 4, 5]\n",
      "Updated List =  [1, 2, 4, 5]\n"
     ]
    }
   ],
   "source": [
    "print(\"Original List = \",list1)\n",
    "\n",
    "del list1[2] # deleting 3rd element\n",
    "print(\"Updated List = \", list1)"
   ]
  },
  {
   "cell_type": "markdown",
   "metadata": {},
   "source": [
    "#### .remove()"
   ]
  },
  {
   "cell_type": "code",
   "execution_count": 16,
   "metadata": {},
   "outputs": [
    {
     "name": "stdout",
     "output_type": "stream",
     "text": [
      "[0, 1, 2, 3, 4]\n",
      "[0, 2, 3, 4]\n",
      "Error: Value not in list\n",
      "[0, 2, 3, 4]\n"
     ]
    }
   ],
   "source": [
    "list1 = [x for x in range(5)]\n",
    "print(list1)\n",
    "\n",
    "list1.remove(1)\n",
    "print(list1)\n",
    "\n",
    "try:\n",
    "    list1.remove('hello')\n",
    "except ValueError:\n",
    "    print(\"Error: Value not in list\")\n",
    "    \n",
    "print(list1)"
   ]
  },
  {
   "cell_type": "markdown",
   "metadata": {},
   "source": [
    "### List Operations"
   ]
  },
  {
   "cell_type": "code",
   "execution_count": 19,
   "metadata": {},
   "outputs": [],
   "source": [
    "l1 = list(\"List Operations\")\n",
    "l2 = list(\"ugly duckling\")"
   ]
  },
  {
   "cell_type": "markdown",
   "metadata": {},
   "source": [
    "#### Finding Length"
   ]
  },
  {
   "cell_type": "code",
   "execution_count": 21,
   "metadata": {},
   "outputs": [
    {
     "name": "stdout",
     "output_type": "stream",
     "text": [
      "15\n",
      "13\n"
     ]
    }
   ],
   "source": [
    "print(len(l1))\n",
    "print(len(l2))"
   ]
  },
  {
   "cell_type": "markdown",
   "metadata": {},
   "source": [
    "#### Concatenation"
   ]
  },
  {
   "cell_type": "code",
   "execution_count": 25,
   "metadata": {},
   "outputs": [
    {
     "name": "stdout",
     "output_type": "stream",
     "text": [
      "['L', 'i', 's', 't', ' ', 'O', 'p', 'e', 'r', 'a', 't', 'i', 'o', 'n', 's', 'u', 'g', 'l', 'y', ' ', 'd', 'u', 'c', 'k', 'l', 'i', 'n', 'g']\n"
     ]
    }
   ],
   "source": [
    "print(l1+l2)"
   ]
  },
  {
   "cell_type": "markdown",
   "metadata": {},
   "source": [
    "#### Repetition"
   ]
  },
  {
   "cell_type": "code",
   "execution_count": 23,
   "metadata": {},
   "outputs": [
    {
     "name": "stdout",
     "output_type": "stream",
     "text": [
      "['L', 'i', 's', 't', ' ', 'O', 'p', 'e', 'r', 'a', 't', 'i', 'o', 'n', 's', 'L', 'i', 's', 't', ' ', 'O', 'p', 'e', 'r', 'a', 't', 'i', 'o', 'n', 's']\n"
     ]
    }
   ],
   "source": [
    "print(l1*2)"
   ]
  },
  {
   "cell_type": "markdown",
   "metadata": {},
   "source": [
    "#### Checking Membership"
   ]
  },
  {
   "cell_type": "code",
   "execution_count": 26,
   "metadata": {},
   "outputs": [
    {
     "data": {
      "text/plain": [
       "False"
      ]
     },
     "execution_count": 26,
     "metadata": {},
     "output_type": "execute_result"
    }
   ],
   "source": [
    "'z' in l1"
   ]
  },
  {
   "cell_type": "markdown",
   "metadata": {},
   "source": [
    "#### Traversal"
   ]
  },
  {
   "cell_type": "code",
   "execution_count": 27,
   "metadata": {},
   "outputs": [
    {
     "name": "stdout",
     "output_type": "stream",
     "text": [
      "L, i, s, t,  , O, p, e, r, a, t, i, o, n, s, u, g, l, y,  , d, u, c, k, l, i, n, g, "
     ]
    }
   ],
   "source": [
    "for x in l1+l2:\n",
    "    print(x, end=', ')"
   ]
  },
  {
   "cell_type": "markdown",
   "metadata": {},
   "source": [
    "### List methods"
   ]
  },
  {
   "cell_type": "code",
   "execution_count": 14,
   "metadata": {},
   "outputs": [],
   "source": [
    "l = [1,2,\"hello\", 'a', (2,3), 5.9]"
   ]
  },
  {
   "cell_type": "code",
   "execution_count": 15,
   "metadata": {},
   "outputs": [
    {
     "name": "stdout",
     "output_type": "stream",
     "text": [
      "APPEND\n",
      "[1, 2, 'hello', 'a', (2, 3), 5.9, 88.88]\n",
      "\n",
      "COUNT\n",
      "1\n",
      "\n",
      "EXTEND\n",
      "[1, 2, 'hello', 'a', (2, 3), 5.9, 88.88, 1, 2, 3]\n",
      "\n",
      "INDEX\n",
      "0\n",
      "\n",
      "INSERT\n",
      "[1, 2, 'hello', 'ck', 'a', (2, 3), 5.9, 88.88, 1, 2, 3]\n",
      "\n",
      "POP\n",
      "3\n",
      "[1, 2, 'hello', 'ck', 'a', (2, 3), 5.9, 88.88, 1, 2]\n",
      "\n",
      "REMOVE\n",
      "[1, 2, 'ck', 'a', (2, 3), 5.9, 88.88, 1, 2]\n",
      "\n",
      "REVERSE\n",
      "[2, 1, 88.88, 5.9, (2, 3), 'a', 'ck', 2, 1]\n",
      "\n",
      "SORT\n",
      "[1, 5, 2, 9.9, -3, 1, 0, 11]\n",
      "[-3, 0, 1, 1, 2, 5, 9.9, 11]\n"
     ]
    }
   ],
   "source": [
    "print('APPEND')\n",
    "l.append(88.88)\n",
    "print(l)\n",
    "print()\n",
    "\n",
    "print('COUNT')\n",
    "print(l.count(1))\n",
    "print()\n",
    "\n",
    "print('EXTEND')\n",
    "seq = (1,2,3)\n",
    "l.extend(seq)\n",
    "print(l)\n",
    "print()\n",
    "\n",
    "print('INDEX')\n",
    "print(l.index(1))\n",
    "print()\n",
    "\n",
    "print('INSERT')\n",
    "l.insert(3, \"ck\")\n",
    "print(l)\n",
    "print()\n",
    "\n",
    "print('POP')\n",
    "print(l.pop())\n",
    "print(l)\n",
    "print()\n",
    "\n",
    "print('REMOVE')\n",
    "l.remove('hello')\n",
    "print(l)\n",
    "print()\n",
    "\n",
    "print('REVERSE')\n",
    "l.reverse()\n",
    "print(l)\n",
    "print()\n",
    "\n",
    "l=[1,5,2,9.9,-3,1,0,11]\n",
    "print('SORT')\n",
    "print(l)\n",
    "l.sort()\n",
    "print(l)"
   ]
  },
  {
   "cell_type": "markdown",
   "metadata": {},
   "source": [
    "<hr style=\"border:2px solid gray\"> </hr>"
   ]
  },
  {
   "cell_type": "markdown",
   "metadata": {},
   "source": [
    "## Tuples"
   ]
  },
  {
   "cell_type": "markdown",
   "metadata": {},
   "source": [
    "### Declaration"
   ]
  },
  {
   "cell_type": "code",
   "execution_count": 17,
   "metadata": {},
   "outputs": [
    {
     "name": "stdout",
     "output_type": "stream",
     "text": [
      "(1, 2, 3, 4, 5)\n",
      "('a', 'b', 'hello', [1, 2, 3], (1, 2), 0.456, 1)\n",
      "<class 'tuple'>\n"
     ]
    }
   ],
   "source": [
    "tup1 = (1,2,3,4,5)\n",
    "tup2 = 'a', 'b', \"hello\", [1,2,3], (1,2), 0.456, 1\n",
    "\n",
    "print(tup1)\n",
    "print(tup2)\n",
    "print(type(tup2))"
   ]
  },
  {
   "cell_type": "code",
   "execution_count": 18,
   "metadata": {},
   "outputs": [
    {
     "name": "stdout",
     "output_type": "stream",
     "text": [
      "('h', 'e', 'l', 'l', 'o')\n",
      "(1, 2, 3)\n"
     ]
    }
   ],
   "source": [
    "tup_a = tuple(\"hello\")\n",
    "tup_b = tuple([1,2,3])\n",
    "\n",
    "print(tup_a)\n",
    "print(tup_b)"
   ]
  },
  {
   "cell_type": "markdown",
   "metadata": {},
   "source": [
    "### Indexing and Slicing\n",
    "```syntax: tuple_name[start:end:step]```"
   ]
  },
  {
   "cell_type": "code",
   "execution_count": 20,
   "metadata": {},
   "outputs": [
    {
     "name": "stdout",
     "output_type": "stream",
     "text": [
      "(1, 2, 3, 4, 5)\n",
      "(2, 4)\n",
      "('a', 'hello', (1, 2), 1)\n",
      "([1, 2, 3], (1, 2))\n"
     ]
    }
   ],
   "source": [
    "print(tup1[:])\n",
    "print(tup1[1::2])\n",
    "print(tup2[::2])\n",
    "print(tup2[-4:-2])"
   ]
  },
  {
   "cell_type": "markdown",
   "metadata": {},
   "source": [
    "### Updating Tuples\n",
    "Tuples are immutable so the elements cannot be updated or modified."
   ]
  },
  {
   "cell_type": "code",
   "execution_count": 21,
   "metadata": {},
   "outputs": [
    {
     "name": "stdout",
     "output_type": "stream",
     "text": [
      "Original Tuple =  (1, 2, 3, 4, 5)\n",
      "Error thrown\n",
      "After trying updation =  (1, 2, 3, 4, 5)\n"
     ]
    }
   ],
   "source": [
    "print(\"Original Tuple = \",tup1)\n",
    "\n",
    "try:\n",
    "    tup1[2]=\"Wonderful\" # this would throw an error\n",
    "except TypeError:\n",
    "    print('Error thrown')\n",
    "    \n",
    "print(\"After trying updation = \", tup1)"
   ]
  },
  {
   "cell_type": "markdown",
   "metadata": {},
   "source": [
    "### Deleting Tuple Elements\n",
    "Tuple elements can't be deleted since they are immutable"
   ]
  },
  {
   "cell_type": "code",
   "execution_count": 22,
   "metadata": {},
   "outputs": [
    {
     "name": "stdout",
     "output_type": "stream",
     "text": [
      "Original Tuple =  (1, 2, 3, 4, 5)\n",
      "Error encountered\n",
      "Updated Tuple =  (1, 2, 3, 4, 5)\n"
     ]
    }
   ],
   "source": [
    "print(\"Original Tuple = \",tup1)\n",
    "\n",
    "try:\n",
    "    del tup1[2] # Throws error\n",
    "except TypeError:\n",
    "    print('Error encountered')\n",
    "\n",
    "print(\"Updated Tuple = \", tup1)"
   ]
  },
  {
   "cell_type": "markdown",
   "metadata": {},
   "source": [
    "### Tuple Operations"
   ]
  },
  {
   "cell_type": "code",
   "execution_count": 28,
   "metadata": {},
   "outputs": [],
   "source": [
    "t1 = tuple(\"Tuple Operations\")\n",
    "t2 = tuple(\"ugly duckling\")"
   ]
  },
  {
   "cell_type": "markdown",
   "metadata": {},
   "source": [
    "#### Finding Length"
   ]
  },
  {
   "cell_type": "code",
   "execution_count": 29,
   "metadata": {},
   "outputs": [
    {
     "name": "stdout",
     "output_type": "stream",
     "text": [
      "16\n",
      "13\n"
     ]
    }
   ],
   "source": [
    "print(len(t1))\n",
    "print(len(t2))"
   ]
  },
  {
   "cell_type": "markdown",
   "metadata": {},
   "source": [
    "#### Concatenation"
   ]
  },
  {
   "cell_type": "code",
   "execution_count": 30,
   "metadata": {},
   "outputs": [
    {
     "name": "stdout",
     "output_type": "stream",
     "text": [
      "('T', 'u', 'p', 'l', 'e', ' ', 'O', 'p', 'e', 'r', 'a', 't', 'i', 'o', 'n', 's', 'u', 'g', 'l', 'y', ' ', 'd', 'u', 'c', 'k', 'l', 'i', 'n', 'g')\n"
     ]
    }
   ],
   "source": [
    "print(t1+t2)"
   ]
  },
  {
   "cell_type": "markdown",
   "metadata": {},
   "source": [
    "#### Repetition"
   ]
  },
  {
   "cell_type": "code",
   "execution_count": 31,
   "metadata": {},
   "outputs": [
    {
     "name": "stdout",
     "output_type": "stream",
     "text": [
      "('T', 'u', 'p', 'l', 'e', ' ', 'O', 'p', 'e', 'r', 'a', 't', 'i', 'o', 'n', 's', 'T', 'u', 'p', 'l', 'e', ' ', 'O', 'p', 'e', 'r', 'a', 't', 'i', 'o', 'n', 's')\n"
     ]
    }
   ],
   "source": [
    "print(t1*2)"
   ]
  },
  {
   "cell_type": "markdown",
   "metadata": {},
   "source": [
    "#### Checking Membership"
   ]
  },
  {
   "cell_type": "code",
   "execution_count": 32,
   "metadata": {},
   "outputs": [
    {
     "data": {
      "text/plain": [
       "False"
      ]
     },
     "execution_count": 32,
     "metadata": {},
     "output_type": "execute_result"
    }
   ],
   "source": [
    "'z' in t1"
   ]
  },
  {
   "cell_type": "markdown",
   "metadata": {},
   "source": [
    "#### Traversal"
   ]
  },
  {
   "cell_type": "code",
   "execution_count": 33,
   "metadata": {},
   "outputs": [
    {
     "name": "stdout",
     "output_type": "stream",
     "text": [
      "T, u, p, l, e,  , O, p, e, r, a, t, i, o, n, s, u, g, l, y,  , d, u, c, k, l, i, n, g, "
     ]
    }
   ],
   "source": [
    "for x in t1+t2:\n",
    "    print(x, end=', ')"
   ]
  },
  {
   "cell_type": "markdown",
   "metadata": {},
   "source": [
    "<hr style=\"border:2px solid gray\"> </hr>"
   ]
  },
  {
   "cell_type": "markdown",
   "metadata": {},
   "source": [
    "## Dictionaries\n",
    "key value pairs"
   ]
  },
  {
   "cell_type": "markdown",
   "metadata": {},
   "source": [
    "### Declaration"
   ]
  },
  {
   "cell_type": "code",
   "execution_count": 42,
   "metadata": {},
   "outputs": [
    {
     "name": "stdout",
     "output_type": "stream",
     "text": [
      "{'Name': 'ck', 'Age': 21, 'Class': 'CSE 6th sem'}\n"
     ]
    }
   ],
   "source": [
    "d = {'Name': 'ck', 'Age': 21, 'Class': 'CSE 6th sem'}\n",
    "print(d)"
   ]
  },
  {
   "cell_type": "markdown",
   "metadata": {},
   "source": [
    "### Accessing Values"
   ]
  },
  {
   "cell_type": "code",
   "execution_count": 43,
   "metadata": {},
   "outputs": [
    {
     "name": "stdout",
     "output_type": "stream",
     "text": [
      "ck\n",
      "CSE 6th sem\n"
     ]
    }
   ],
   "source": [
    "print(d['Name'])\n",
    "print(d['Class'])"
   ]
  },
  {
   "cell_type": "markdown",
   "metadata": {},
   "source": [
    "### Updating Values"
   ]
  },
  {
   "cell_type": "code",
   "execution_count": 44,
   "metadata": {},
   "outputs": [
    {
     "name": "stdout",
     "output_type": "stream",
     "text": [
      "ck\n",
      "Chahat\n"
     ]
    }
   ],
   "source": [
    "print(d['Name'])\n",
    "d['Name']='Chahat'\n",
    "print(d['Name'])"
   ]
  },
  {
   "cell_type": "markdown",
   "metadata": {},
   "source": [
    "### Deleting Values"
   ]
  },
  {
   "cell_type": "code",
   "execution_count": 45,
   "metadata": {},
   "outputs": [
    {
     "name": "stdout",
     "output_type": "stream",
     "text": [
      "21\n",
      "Key not present\n"
     ]
    }
   ],
   "source": [
    "print(d['Age'])\n",
    "del d['Age']\n",
    "\n",
    "try:\n",
    "    print(d['Age'])\n",
    "except KeyError:\n",
    "    print(\"Key not present\")"
   ]
  },
  {
   "cell_type": "markdown",
   "metadata": {},
   "source": [
    "### Finding Length"
   ]
  },
  {
   "cell_type": "code",
   "execution_count": 47,
   "metadata": {},
   "outputs": [
    {
     "data": {
      "text/plain": [
       "2"
      ]
     },
     "execution_count": 47,
     "metadata": {},
     "output_type": "execute_result"
    }
   ],
   "source": [
    "len(d)"
   ]
  },
  {
   "cell_type": "markdown",
   "metadata": {},
   "source": [
    "### Dictionary Methods"
   ]
  },
  {
   "cell_type": "code",
   "execution_count": 49,
   "metadata": {},
   "outputs": [
    {
     "name": "stdout",
     "output_type": "stream",
     "text": [
      "dict_items([('Name', 'Chahat'), ('Class', 'CSE 6th sem')])\n",
      "dict_keys(['Name', 'Class'])\n",
      "dict_values(['Chahat', 'CSE 6th sem'])\n"
     ]
    }
   ],
   "source": [
    "print(d.items())\n",
    "print(d.keys())\n",
    "print(d.values())"
   ]
  },
  {
   "cell_type": "code",
   "execution_count": 52,
   "metadata": {},
   "outputs": [
    {
     "data": {
      "text/plain": [
       "{'Hi': 1, 'hello': 1, 'bye': 1}"
      ]
     },
     "execution_count": 52,
     "metadata": {},
     "output_type": "execute_result"
    }
   ],
   "source": [
    "seq = ('Hi', 'hello', 'bye')\n",
    "di = {}\n",
    "di.fromkeys(seq, 1)"
   ]
  },
  {
   "cell_type": "code",
   "execution_count": 54,
   "metadata": {},
   "outputs": [
    {
     "data": {
      "text/plain": [
       "{}"
      ]
     },
     "execution_count": 54,
     "metadata": {},
     "output_type": "execute_result"
    }
   ],
   "source": [
    "di.clear()\n",
    "di"
   ]
  },
  {
   "cell_type": "code",
   "execution_count": 58,
   "metadata": {},
   "outputs": [
    {
     "data": {
      "text/plain": [
       "{'Name': 'Chahat', 'Class': 'CSE 6th sem'}"
      ]
     },
     "execution_count": 58,
     "metadata": {},
     "output_type": "execute_result"
    }
   ],
   "source": [
    "di.update(d)\n",
    "di"
   ]
  },
  {
   "cell_type": "code",
   "execution_count": 60,
   "metadata": {},
   "outputs": [
    {
     "data": {
      "text/plain": [
       "{'Name': 'Chahat', 'Class': 'CSE 6th sem'}"
      ]
     },
     "execution_count": 60,
     "metadata": {},
     "output_type": "execute_result"
    }
   ],
   "source": [
    "dic = d.copy()\n",
    "dic"
   ]
  },
  {
   "cell_type": "markdown",
   "metadata": {},
   "source": [
    "<hr style=\"border:2px solid gray\"> </hr>"
   ]
  },
  {
   "cell_type": "markdown",
   "metadata": {},
   "source": [
    "## Functions"
   ]
  },
  {
   "cell_type": "code",
   "execution_count": 61,
   "metadata": {},
   "outputs": [],
   "source": [
    "def helloFunction():\n",
    "    print(\"Hello!\")"
   ]
  },
  {
   "cell_type": "code",
   "execution_count": 62,
   "metadata": {},
   "outputs": [
    {
     "name": "stdout",
     "output_type": "stream",
     "text": [
      "Hello!\n"
     ]
    }
   ],
   "source": [
    "helloFunction()"
   ]
  },
  {
   "cell_type": "markdown",
   "metadata": {},
   "source": [
    "### Pass by Reference\n",
    "All parameters in Python functions are passed by reference"
   ]
  },
  {
   "cell_type": "code",
   "execution_count": 63,
   "metadata": {},
   "outputs": [],
   "source": [
    "def exampleFunction(lst):\n",
    "    if len(lst)<2: return\n",
    "    lst[1]='Hello'"
   ]
  },
  {
   "cell_type": "code",
   "execution_count": 64,
   "metadata": {},
   "outputs": [
    {
     "name": "stdout",
     "output_type": "stream",
     "text": [
      "[1, 'Hello', 3, 4, 5]\n"
     ]
    }
   ],
   "source": [
    "lst = [1,2,3,4,5]\n",
    "exampleFunction(lst)\n",
    "print(lst)"
   ]
  },
  {
   "cell_type": "markdown",
   "metadata": {},
   "source": [
    "### Function Arguments\n",
    "- Required Arguments\n",
    "- Keyword Arguments\n",
    "- Default Arguments\n",
    "- Variable-length Arguments"
   ]
  },
  {
   "cell_type": "markdown",
   "metadata": {},
   "source": [
    "#### Required Arguments"
   ]
  },
  {
   "cell_type": "code",
   "execution_count": 71,
   "metadata": {},
   "outputs": [],
   "source": [
    "def printStuff(l: list, s: str):\n",
    "    print(l)\n",
    "    print(s)"
   ]
  },
  {
   "cell_type": "code",
   "execution_count": 72,
   "metadata": {},
   "outputs": [],
   "source": [
    "l=[1,2,3,4]\n",
    "s='hi!'"
   ]
  },
  {
   "cell_type": "code",
   "execution_count": 73,
   "metadata": {},
   "outputs": [
    {
     "name": "stdout",
     "output_type": "stream",
     "text": [
      "[1, 2, 3, 4]\n",
      "hi!\n",
      "error\n"
     ]
    }
   ],
   "source": [
    "printStuff(l, s)\n",
    "\n",
    "try:\n",
    "    printStuff(l)\n",
    "except:\n",
    "    print('error')"
   ]
  },
  {
   "cell_type": "markdown",
   "metadata": {},
   "source": [
    "#### Keyword Arguments"
   ]
  },
  {
   "cell_type": "code",
   "execution_count": 74,
   "metadata": {},
   "outputs": [
    {
     "name": "stdout",
     "output_type": "stream",
     "text": [
      "Name: Shinx\n",
      "Age: 13\n"
     ]
    }
   ],
   "source": [
    "def printId(name, age):\n",
    "    print(\"Name:\", name)\n",
    "    print(\"Age:\", age)\n",
    "\n",
    "printId(age=13, name='Shinx')"
   ]
  },
  {
   "cell_type": "markdown",
   "metadata": {},
   "source": [
    "#### Default Arguments"
   ]
  },
  {
   "cell_type": "code",
   "execution_count": 76,
   "metadata": {},
   "outputs": [
    {
     "name": "stdout",
     "output_type": "stream",
     "text": [
      "Name: hello\n",
      "Age: 20\n",
      "\n",
      "Name: xyz\n",
      "Age: 20\n",
      "\n",
      "Name: xyz\n",
      "Age: 25\n",
      "\n"
     ]
    }
   ],
   "source": [
    "def printDefault(name='xyz', age=20):\n",
    "    print(\"Name:\", name)\n",
    "    print(\"Age:\", age)\n",
    "    print()\n",
    "\n",
    "printDefault(name='hello')\n",
    "printDefault()\n",
    "printDefault(age=25)"
   ]
  },
  {
   "cell_type": "markdown",
   "metadata": {},
   "source": [
    "#### Variable-length Arguments"
   ]
  },
  {
   "cell_type": "code",
   "execution_count": 78,
   "metadata": {},
   "outputs": [
    {
     "name": "stdout",
     "output_type": "stream",
     "text": [
      "1\n",
      "()\n",
      "\n",
      "1\n",
      "(2,)\n",
      "\n",
      "1\n",
      "(2, [1, 2])\n",
      "\n"
     ]
    }
   ],
   "source": [
    "def printStuff(a, *args):\n",
    "    print(a)\n",
    "    print(args)\n",
    "    print()\n",
    "    \n",
    "printStuff(1)\n",
    "printStuff(1, 2)\n",
    "printStuff(1,2,[1,2])"
   ]
  },
  {
   "cell_type": "markdown",
   "metadata": {},
   "source": [
    "### Anonymous (Lambda) Functions\n",
    "```\n",
    "lambda [arg1 [, arg2,...argn]]: expression\n",
    "```"
   ]
  },
  {
   "cell_type": "code",
   "execution_count": 80,
   "metadata": {},
   "outputs": [
    {
     "name": "stdout",
     "output_type": "stream",
     "text": [
      "3\n",
      "hi, hello\n"
     ]
    }
   ],
   "source": [
    "sum = lambda a, b: a+b\n",
    "print(sum(1,2))\n",
    "print(sum('hi, ', 'hello'))"
   ]
  },
  {
   "cell_type": "markdown",
   "metadata": {},
   "source": [
    "### Return Statement"
   ]
  },
  {
   "cell_type": "code",
   "execution_count": 81,
   "metadata": {},
   "outputs": [
    {
     "name": "stdout",
     "output_type": "stream",
     "text": [
      "3\n",
      "alphabeta\n"
     ]
    }
   ],
   "source": [
    "def findSum(a, b):\n",
    "    return a+b\n",
    "\n",
    "print(findSum(1,2))\n",
    "print(findSum('alpha', 'beta'))"
   ]
  },
  {
   "cell_type": "markdown",
   "metadata": {},
   "source": [
    "### Scope of Variables\n",
    "- Variables inside functions: LOCAL\n",
    "- Variables outside functions: GLOBAL"
   ]
  },
  {
   "cell_type": "code",
   "execution_count": 83,
   "metadata": {},
   "outputs": [
    {
     "name": "stdout",
     "output_type": "stream",
     "text": [
      "inside fn: 20\n",
      "outside fn: 10\n"
     ]
    }
   ],
   "source": [
    "a = 10\n",
    "\n",
    "def aFunction():\n",
    "    a = 20\n",
    "    print(\"inside fn:\",a)\n",
    "\n",
    "aFunction()\n",
    "print(\"outside fn:\",a)"
   ]
  },
  {
   "cell_type": "markdown",
   "metadata": {},
   "source": [
    "<hr style=\"border:2px solid gray\"> </hr>"
   ]
  },
  {
   "cell_type": "markdown",
   "metadata": {},
   "source": [
    "## Program 1\n",
    "\n",
    "**Write python code to accept words from the\n",
    "user until a blank line is entered. The output should display the words exactly\n",
    "once, in the order in which they were entered.**\n",
    "\n",
    "\n",
    "**Example Input:**  \n",
    "red  \n",
    "black  \n",
    "red  \n",
    "orange  \n",
    "black  \n",
    "\n",
    "\n",
    "**Output:**  \n",
    "red  \n",
    "black  \n",
    "orange"
   ]
  },
  {
   "cell_type": "code",
   "execution_count": 1,
   "metadata": {},
   "outputs": [
    {
     "name": "stdout",
     "output_type": "stream",
     "text": [
      "INPUT:\n",
      "apple\n",
      "apple\n",
      "banana\n",
      "kiwi\n",
      "banana\n",
      "orange\n",
      "strawberry\n",
      "\n",
      "OUTPUT:\n",
      "apple\n",
      "banana\n",
      "kiwi\n",
      "orange\n",
      "strawberry\n"
     ]
    }
   ],
   "source": [
    "d = {}\n",
    "\n",
    "print('INPUT:')\n",
    "while True:\n",
    "    word = input()\n",
    "    if word.strip()=='': break\n",
    "        \n",
    "    d[word]=0\n",
    "    \n",
    "print('OUTPUT:')\n",
    "for w in d.keys():\n",
    "    print(w)"
   ]
  },
  {
   "cell_type": "markdown",
   "metadata": {},
   "source": [
    "## Program 2\n",
    "\n",
    "**Write a program to create a dictionary from two lists. The list values should be input by the user.**\n",
    "\n",
    "\n",
    "**Example Input:**  \n",
    "List\n",
    "1: [red, orange, black]\n",
    "\n",
    "\n",
    "List\n",
    "2: [200, 300, 100] \n",
    "\n",
    "\n",
    "**Output:**  \n",
    "{'red': '200','orange': '300', 'black': '100'}"
   ]
  },
  {
   "cell_type": "code",
   "execution_count": 92,
   "metadata": {},
   "outputs": [
    {
     "name": "stdout",
     "output_type": "stream",
     "text": [
      "Enter first list:\n",
      "apple\n",
      "kiwi\n",
      "mango\n",
      "guava\n",
      "\n",
      "\n",
      "Enter second list\n",
      "12\n",
      "20\n",
      "8\n",
      "9\n",
      "\n",
      "LISTS ARE:\n",
      "['apple', 'kiwi', 'mango', 'guava']\n",
      "['12', '20', '8', '9']\n",
      "\n",
      "DICTIONARY IS:\n",
      "{'apple': '12', 'kiwi': '20', 'mango': '8', 'guava': '9'}\n"
     ]
    }
   ],
   "source": [
    "keys = []\n",
    "values = []\n",
    "\n",
    "print('Enter first list:')\n",
    "while True:\n",
    "    k = input()\n",
    "    if k.strip()=='': break\n",
    "        \n",
    "    keys.append(k)\n",
    "    \n",
    "print('\\nEnter second list')\n",
    "for i in range(len(keys)):\n",
    "    values.append(int(input()))b\n",
    "    \n",
    "print('\\nLISTS ARE:')\n",
    "print(keys)\n",
    "print(values, end='\\n\\n')\n",
    "\n",
    "d = {}\n",
    "for i in range(len(keys)):\n",
    "    d[keys[i]]=values[i]\n",
    "    \n",
    "print('DICTIONARY IS:')\n",
    "print(d)"
   ]
  },
  {
   "cell_type": "markdown",
   "metadata": {},
   "source": [
    "**Sort the above dictionary by:**\n",
    "- Keys\n",
    "- Values\n",
    "\n",
    "**Sorting order is given by user.**"
   ]
  },
  {
   "cell_type": "code",
   "execution_count": 120,
   "metadata": {},
   "outputs": [
    {
     "name": "stdout",
     "output_type": "stream",
     "text": [
      "SORTING BY KEYS\n",
      "Enter 1 or a for ascending order; 0 or d for in descending: d\n",
      "DICT SORTED BY KEYS {'mango': 8, 'kiwi': 20, 'guava': 9, 'apple': 12}\n",
      "\n"
     ]
    }
   ],
   "source": [
    "print('SORTING BY KEYS')\n",
    "order = input('Enter 1 or a for ascending order; 0 or d for in descending: ')\n",
    "\n",
    "if order=='1' or order=='a':\n",
    "    order = False\n",
    "else:\n",
    "    order = True\n",
    "    \n",
    "x = sorted(d.items(), key = lambda item:item[0], reverse = order)\n",
    "d = {}\n",
    "for t in x:\n",
    "    d[t[0]] = t[1]\n",
    "\n",
    "print('DICT SORTED BY KEYS', d, end='\\n\\n')"
   ]
  },
  {
   "cell_type": "code",
   "execution_count": 119,
   "metadata": {},
   "outputs": [
    {
     "name": "stdout",
     "output_type": "stream",
     "text": [
      "SORTING BY VALUES\n",
      "Enter 1 or a for ascending order; 0 or d for in descending: a\n",
      "DICT SORTED BY VALUES {'mango': 8, 'guava': 9, 'apple': 12, 'kiwi': 20}\n",
      "\n"
     ]
    }
   ],
   "source": [
    "print('SORTING BY VALUES')\n",
    "order = input('Enter 1 or a for ascending order; 0 or d for in descending: ')\n",
    "\n",
    "if order=='1' or order=='a':\n",
    "    order = False\n",
    "else:\n",
    "    order = True\n",
    "    \n",
    "x = sorted(d.items(), key = lambda item:item[1], reverse = order)\n",
    "d = {}\n",
    "for t in x:\n",
    "    d[t[0]] = t[1]\n",
    "\n",
    "print('DICT SORTED BY VALUES', d, end='\\n\\n')"
   ]
  },
  {
   "cell_type": "code",
   "execution_count": null,
   "metadata": {},
   "outputs": [],
   "source": []
  }
 ],
 "metadata": {
  "kernelspec": {
   "display_name": "Python 3",
   "language": "python",
   "name": "python3"
  },
  "language_info": {
   "codemirror_mode": {
    "name": "ipython",
    "version": 3
   },
   "file_extension": ".py",
   "mimetype": "text/x-python",
   "name": "python",
   "nbconvert_exporter": "python",
   "pygments_lexer": "ipython3",
   "version": "3.9.1"
  }
 },
 "nbformat": 4,
 "nbformat_minor": 4
}
